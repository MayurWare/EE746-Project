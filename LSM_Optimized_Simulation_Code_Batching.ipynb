{
 "cells": [
  {
   "cell_type": "markdown",
   "metadata": {
    "id": "3445c45b-72e3-45d8-9411-5977204c8f1c"
   },
   "source": [
    "<h2> Core Function to Simulate any Neural Network with GPU acceleration </h2>"
   ]
  },
  {
   "cell_type": "code",
   "execution_count": 4,
   "metadata": {
    "colab": {
     "base_uri": "https://localhost:8080/"
    },
    "id": "2c19ea14-5389-4541-b16a-e36904f53811",
    "outputId": "e47ca4df-7cd2-479d-d942-e4ba9bf9d107",
    "tags": []
   },
   "outputs": [],
   "source": [
    "import torch\n",
    "import matplotlib.pyplot as plt\n",
    "import random\n",
    "import numpy as np\n",
    "import tqdm\n",
    "import scipy.io\n",
    "import pandas as pd\n",
    "from sklearn.linear_model import SGDClassifier, LogisticRegression\n",
    "from sklearn.preprocessing import StandardScaler\n",
    "from sklearn.pipeline import make_pipeline\n",
    "from sklearn.model_selection import train_test_split"
   ]
  },
  {
   "cell_type": "code",
   "execution_count": 5,
   "metadata": {},
   "outputs": [],
   "source": [
    "\n",
    "import sys\n",
    "np.set_printoptions(threshold=sys.maxsize)"
   ]
  },
  {
   "cell_type": "code",
   "execution_count": 6,
   "metadata": {
    "id": "f9d2a21c-2400-4022-8f7e-6f1485cd6af9",
    "tags": []
   },
   "outputs": [],
   "source": [
    "class NeuralNetworkSimulator(): \n",
    "    def __init__(self, weight_matrix, batch_size = 1): \n",
    "        #Weight matrix W[i,j] -> weight from ith neuron to jth neuron\n",
    "        self.batch_size = batch_size\n",
    "        self.weight_matrix = weight_matrix\n",
    "        self.n_neurons = weight_matrix.shape[0]\n",
    "        if torch.cuda.is_available(): \n",
    "            self.weight_matrix = self.weight_matrix.cuda()\n",
    "        return \n",
    "    \n",
    "    def setup_neuron_and_synapse_parameters(self, tau, Vth, Vrst, tau1, tau2, I0):\n",
    "        self.tau = tau\n",
    "        self.Vth = Vth \n",
    "        self.Vrst = Vrst\n",
    "        self.tau1 = tau1\n",
    "        self.tau2 = tau2\n",
    "        self.I0 = I0\n",
    "        return\n",
    "    \n",
    "    def setup_simulation(self, dt, n_time_steps): \n",
    "        self.dt = dt\n",
    "        self.n_time_steps = n_time_steps\n",
    "        Ipc = torch.zeros(n_time_steps, n_time_steps)\n",
    "        for i in range(n_time_steps):\n",
    "            spike_time_tensor = torch.tensor([ts for ts in range(n_time_steps)])\n",
    "\n",
    "            current_time_tensor = torch.tensor([ i for x in range(n_time_steps)])\n",
    "            \n",
    "            difference_tensor = -1*(current_time_tensor - spike_time_tensor)\n",
    "            \n",
    "            current_tensor = (self.I0)*(torch.exp(difference_tensor*dt/(self.tau1)) - torch.exp(difference_tensor*dt/(self.tau2)))\n",
    "         \n",
    "            Ipc[i, :] = current_tensor\n",
    "            Ipc[i, i:] = 0\n",
    "            pass\n",
    "        self.Ipc = Ipc\n",
    "        return\n",
    "    \n",
    "    def setup_storage_matrices(self, dt, n_time_steps): \n",
    "        self.spike_time_matrix = torch.zeros(self.batch_size, self.n_neurons, n_time_steps)\n",
    "        self.current_I_through_neuron = torch.zeros(self.batch_size, 1, self.n_neurons)\n",
    "        self.voltage = torch.zeros(self.batch_size, self.n_neurons)\n",
    "        self.voltage[:] = self.Vrst\n",
    "        self.all_voltage = torch.zeros(self.batch_size, n_time_steps, self.n_neurons)\n",
    "        self.all_voltage[:] = self.Vrst\n",
    "        self.Iin = torch.zeros(self.batch_size, self.n_neurons)\n",
    "        self.Ipc_time_index = torch.zeros(n_time_steps) \n",
    "        if torch.cuda.is_available():\n",
    "            self.spike_time_matrix = self.spike_time_matrix.cuda()\n",
    "            self.current_I_through_neuron = self.current_I_through_neuron.cuda()\n",
    "            self.voltage = self.voltage.cuda()\n",
    "            self.Iin = self.Iin.cuda()\n",
    "            self.Ipc_time_index = self.Ipc_time_index.cuda()\n",
    "        return\n",
    "    \n",
    "    def reset_simulation(self):\n",
    "        self.spike_time_matrix[:] = 0 \n",
    "        self.current_I_through_neuron[:] = 0 \n",
    "        self.voltage[:] = self.Vrst\n",
    "        self.all_voltage[:] = self.Vrst\n",
    "        self.Iin[:] = 0\n",
    "        self.Ipc_time_index[:] = 0 \n",
    "        return \n",
    "\n",
    "    def give_input_spike(self, input_spike_matrix):\n",
    "        assert input_spike_matrix.shape[0] == self.batch_size\n",
    "        self.spike_time_matrix[:, :, :] = input_spike_matrix\n",
    "        if torch.cuda.is_available():\n",
    "            self.spike_time_matrix = self.spike_time_matrix.cuda()\n",
    "        return\n",
    "    \n",
    "    def run_simulation(self):\n",
    "\n",
    "        Aup = 0.01\n",
    "        Adown = -0.02\n",
    "        self.all_weights = torch.zeros(self.n_time_steps,self.n_neurons,self.n_neurons)\n",
    "        \n",
    "        self.all_weights[0,:,:] = weight_matrix \n",
    "        \n",
    "        \n",
    "        \n",
    "        for time_step in tqdm.tqdm(range(self.n_time_steps)):\n",
    "            self.voltage = self.voltage*(1 - self.dt/self.tau) + self.Iin*self.dt\n",
    "            condition = self.voltage < self.Vrst\n",
    "            self.voltage[condition] = self.Vrst\n",
    "            condition = self.voltage >= self.Vth\n",
    "            slice_of_spike_time = self.spike_time_matrix[:, :, time_step]\n",
    "            slice_of_spike_time[condition] = 1\n",
    "            self.spike_time_matrix[:, :, time_step] = slice_of_spike_time\n",
    "            self.voltage[condition] = self.Vrst\n",
    "            self.all_voltage[:, time_step, :] = self.voltage[:, :]\n",
    "            \n",
    "            self.all_weights[time_step,:,:] = self.weight_matrix\n",
    "            \n",
    "            \n",
    "            for i in range(self.batch_size):\n",
    "                spiked_neuron = np.where(condition[i])[0]\n",
    "                    \n",
    "                \n",
    "                for j in range(1,20):\n",
    "                    if (time_step-j)>0:\n",
    "                        pre_spiked_neuron = self.spike_time_matrix[i,:,time_step-j]\n",
    "                      \n",
    "                        \n",
    "                       \n",
    "                        pre_spiked_neuron = np.where(pre_spiked_neuron)[0]\n",
    "                        \n",
    "                        \n",
    "\n",
    "                        for k in range(len(spiked_neuron)):\n",
    "                \n",
    "                                        \n",
    "                            for l in range(len(pre_spiked_neuron)):\n",
    "                                 if weight_matrix[pre_spiked_neuron[l],spiked_neuron[k]]>0:\n",
    "                                    weight_matrix[pre_spiked_neuron[l],spiked_neuron[k]] =  weight_matrix[pre_spiked_neuron[l],spiked_neuron[k]] + (weight_matrix[pre_spiked_neuron[l],spiked_neuron[k]]*Aup*np.exp(-j/20))\n",
    "                                    if weight_matrix[pre_spiked_neuron[l],spiked_neuron[k]] > 8:\n",
    "                                        weight_matrix[pre_spiked_neuron[l],spiked_neuron[k]] = 8\n",
    "               \n",
    "                for j in range(1,20):\n",
    "                    \n",
    "                    if (self.n_time_steps-1) > time_step+j:\n",
    "                        post_spiked_neuron = self.spike_time_matrix[i,:,time_step+j]\n",
    "                        post_spiked_neuron = np.where(post_spiked_neuron)[0]\n",
    "\n",
    "                        for k in range(len(spiked_neuron)):\n",
    "                            for l in range(len(post_spiked_neuron)):\n",
    "                                if weight_matrix[post_spiked_neuron[l],spiked_neuron[k]]>0:\n",
    "                                    weight_matrix[post_spiked_neuron[l],spiked_neuron[k]] =  weight_matrix[post_spiked_neuron[l],spiked_neuron[k]] + (weight_matrix[post_spiked_neuron[l],spiked_neuron[k]]*Adown*np.exp(-j/22))\n",
    "                                    if weight_matrix[post_spiked_neuron[l],spiked_neuron[k]] < 0:\n",
    "                                        weight_matrix[post_spiked_neuron[l],spiked_neuron[k]] = 0.001\n",
    "                                    \n",
    "                \n",
    "                                    \n",
    "                    \n",
    "                    \n",
    "                \n",
    "            \n",
    "                \n",
    "                \n",
    "            \n",
    "            \n",
    "            \n",
    "            self.Ipc_time_index[:] = self.Ipc[time_step, :]\n",
    "            self.current_I_through_neuron[:, 0, :] = torch.matmul(self.spike_time_matrix, self.Ipc_time_index)\n",
    "            self.Iin[:, :] = torch.matmul(self.current_I_through_neuron, self.weight_matrix)[:, 0, :]\n",
    "        return"
   ]
  },
  {
   "cell_type": "markdown",
   "metadata": {
    "id": "d63568fa-08d4-4d6a-8a53-5c6741f6e71f"
   },
   "source": [
    "To Do: \n",
    "1. Put up a progress bar to show progress of loop\n",
    "2. Modify system to parallelize multiple simulations\n",
    "3. Add support for refractory time in neurons and synapses"
   ]
  },
  {
   "cell_type": "markdown",
   "metadata": {
    "id": "186e50e4-bc45-40fd-8492-8891c81069fe"
   },
   "source": [
    "<h2> Simulating a two neuron network as an example </h2>"
   ]
  },
  {
   "cell_type": "code",
   "execution_count": 7,
   "metadata": {
    "id": "745685e0-8b3f-4723-8955-dfd4720bd264",
    "tags": []
   },
   "outputs": [],
   "source": [
    "weight_matrix = torch.zeros([2, 2])\n",
    "weight_matrix[0,1] = 6\n",
    "weight_matrix[1,1] = 6\n",
    "weight_matrix[0,0] = 6\n",
    "weight_matrix[1,0] = 6\n",
    "\n"
   ]
  },
  {
   "cell_type": "code",
   "execution_count": 8,
   "metadata": {
    "id": "4f24815e-ab61-4418-8bbe-6ce5a8bbbc2a",
    "tags": []
   },
   "outputs": [],
   "source": [
    "new_network = NeuralNetworkSimulator(weight_matrix, 5)"
   ]
  },
  {
   "cell_type": "code",
   "execution_count": 9,
   "metadata": {
    "id": "ae9c19c3-c625-43dd-9bf2-40dc0704c6b1",
    "tags": []
   },
   "outputs": [],
   "source": [
    "new_network.setup_neuron_and_synapse_parameters(tau = 64*pow(10, -3), Vth = 20, Vrst = 0, tau1 = 8*pow(10, -3), tau2 = 4*pow(10,-3), I0 = 250)"
   ]
  },
  {
   "cell_type": "code",
   "execution_count": 10,
   "metadata": {
    "id": "b1d26256-c28d-42f3-bb7a-022b26aa3977",
    "tags": []
   },
   "outputs": [],
   "source": [
    "new_network.setup_simulation(dt = pow(10, -3), n_time_steps = 1000)\n",
    "new_network.setup_storage_matrices(dt = pow(10, -3), n_time_steps = 1000)"
   ]
  },
  {
   "cell_type": "code",
   "execution_count": 11,
   "metadata": {
    "id": "546534ec-73b5-417d-8237-bf28423f3cf7",
    "tags": []
   },
   "outputs": [],
   "source": [
    "new_network.reset_simulation()\n",
    "input_spikes = torch.zeros(5, 2, 1000)\n",
    "for i in range(1000): \n",
    "    if i % 15 == 0: \n",
    "        input_spikes[1, 0, i] = 1\n",
    "        \n",
    "new_network.give_input_spike(input_spikes)"
   ]
  },
  {
   "cell_type": "code",
   "execution_count": 12,
   "metadata": {},
   "outputs": [
    {
     "data": {
      "text/plain": [
       "array([], dtype=int64)"
      ]
     },
     "execution_count": 12,
     "metadata": {},
     "output_type": "execute_result"
    }
   ],
   "source": [
    "np.where(new_network.spike_time_matrix[1,1,:])[0]"
   ]
  },
  {
   "cell_type": "code",
   "execution_count": 13,
   "metadata": {},
   "outputs": [
    {
     "data": {
      "text/plain": [
       "array([  0,  15,  30,  45,  60,  75,  90, 105, 120, 135, 150, 165, 180,\n",
       "       195, 210, 225, 240, 255, 270, 285, 300, 315, 330, 345, 360, 375,\n",
       "       390, 405, 420, 435, 450, 465, 480, 495, 510, 525, 540, 555, 570,\n",
       "       585, 600, 615, 630, 645, 660, 675, 690, 705, 720, 735, 750, 765,\n",
       "       780, 795, 810, 825, 840, 855, 870, 885, 900, 915, 930, 945, 960,\n",
       "       975, 990], dtype=int64)"
      ]
     },
     "execution_count": 13,
     "metadata": {},
     "output_type": "execute_result"
    }
   ],
   "source": [
    "np.where(new_network.spike_time_matrix[1,0,:])[0]"
   ]
  },
  {
   "cell_type": "code",
   "execution_count": 14,
   "metadata": {
    "colab": {
     "base_uri": "https://localhost:8080/"
    },
    "id": "5edbce1d-6d48-4a5e-b9f9-57d8b79cdcc0",
    "outputId": "d850627f-62c3-41e9-88c2-e505e6184cce",
    "tags": []
   },
   "outputs": [
    {
     "name": "stderr",
     "output_type": "stream",
     "text": [
      "100%|█████████████████████████████████████████████████████████████████████████████| 1000/1000 [00:03<00:00, 265.68it/s]\n"
     ]
    }
   ],
   "source": [
    "new_network.run_simulation()"
   ]
  },
  {
   "cell_type": "code",
   "execution_count": 15,
   "metadata": {
    "colab": {
     "base_uri": "https://localhost:8080/"
    },
    "id": "0986830b-e84f-4ca9-9b26-a9805ceded80",
    "outputId": "bf669ade-4b8f-4077-e25d-1d9e8c4eeb0d",
    "tags": []
   },
   "outputs": [
    {
     "data": {
      "text/plain": [
       "(torch.Size([5, 1000, 2]), torch.Size([5, 2, 1000]), torch.Size([5, 1, 2]))"
      ]
     },
     "execution_count": 15,
     "metadata": {},
     "output_type": "execute_result"
    }
   ],
   "source": [
    "new_network.all_voltage.shape, new_network.spike_time_matrix.shape, new_network.current_I_through_neuron.shape"
   ]
  },
  {
   "cell_type": "code",
   "execution_count": 16,
   "metadata": {},
   "outputs": [
    {
     "name": "stdout",
     "output_type": "stream",
     "text": [
      "tensor([[5.3019, 5.3019],\n",
      "        [6.0000, 6.0000]])\n"
     ]
    }
   ],
   "source": [
    "print(weight_matrix)"
   ]
  },
  {
   "cell_type": "code",
   "execution_count": 17,
   "metadata": {
    "colab": {
     "base_uri": "https://localhost:8080/",
     "height": 282
    },
    "id": "99cb0aa5-4185-40dd-a5de-8c6ba4bc6424",
    "outputId": "fd6540fa-4800-4f76-febb-b516b9c02c19",
    "tags": []
   },
   "outputs": [
    {
     "data": {
      "text/plain": [
       "[<matplotlib.lines.Line2D at 0x21e47320dc0>]"
      ]
     },
     "execution_count": 17,
     "metadata": {},
     "output_type": "execute_result"
    },
    {
     "data": {
      "image/png": "[encoded data removed]",
      "text/plain": [
       "<Figure size 432x288 with 1 Axes>"
      ]
     },
     "metadata": {
      "needs_background": "light"
     },
     "output_type": "display_data"
    }
   ],
   "source": [
    "plt.plot(new_network.all_voltage[1, :, 1])"
   ]
  },
  {
   "cell_type": "code",
   "execution_count": 18,
   "metadata": {
    "colab": {
     "base_uri": "https://localhost:8080/",
     "height": 282
    },
    "id": "f6f34c8e-f468-4e4d-ae1c-0d23745e7996",
    "outputId": "097337fb-0e32-4828-dd97-a392fc8b956c",
    "tags": []
   },
   "outputs": [
    {
     "data": {
      "text/plain": [
       "[<matplotlib.lines.Line2D at 0x21e49407310>]"
      ]
     },
     "execution_count": 18,
     "metadata": {},
     "output_type": "execute_result"
    },
    {
     "data": {
      "image/png": "[encoded data removed]",
      "text/plain": [
       "<Figure size 432x288 with 1 Axes>"
      ]
     },
     "metadata": {
      "needs_background": "light"
     },
     "output_type": "display_data"
    }
   ],
   "source": [
    "plt.plot(new_network.spike_time_matrix[1, 1, :].cpu())"
   ]
  },
  {
   "cell_type": "code",
   "execution_count": 19,
   "metadata": {
    "scrolled": true
   },
   "outputs": [
    {
     "data": {
      "text/plain": [
       "tensor([1., 0., 0., 0., 0., 0., 0., 0., 0., 0., 0., 0., 0., 0., 0., 1., 0., 0.,\n",
       "        0., 0., 0., 0., 0., 0., 0., 0., 0., 0., 0., 0., 1., 0., 0., 0., 0., 0.,\n",
       "        0., 0., 0., 0., 0., 0., 0., 0., 0., 1., 0., 0., 0., 0., 0., 0., 0., 0.,\n",
       "        0., 0., 0., 0., 0., 0., 1., 0., 0., 0., 0., 0., 0., 0., 0., 0., 0., 0.,\n",
       "        0., 0., 0., 1., 0., 0., 0., 0., 0., 0., 0., 0., 0., 0., 0., 0., 0., 0.,\n",
       "        1., 0., 0., 0., 0., 0., 0., 0., 0., 0., 1., 0., 0., 0., 0., 1., 0., 0.,\n",
       "        0., 0., 0., 0., 0., 0., 0., 0., 0., 0., 0., 0., 1., 0., 0., 0., 0., 0.,\n",
       "        0., 0., 0., 0., 0., 0., 0., 0., 0., 1., 0., 0., 0., 0., 0., 0., 0., 0.,\n",
       "        1., 0., 0., 0., 0., 0., 1., 0., 0., 0., 0., 0., 0., 0., 0., 0., 0., 0.,\n",
       "        0., 0., 0., 1., 0., 0., 0., 0., 0., 0., 0., 0., 0., 0., 0., 0., 0., 0.,\n",
       "        1., 0., 0., 0., 0., 0., 0., 0., 0., 1., 0., 0., 0., 0., 0., 1., 0., 0.,\n",
       "        0., 0., 0., 0., 0., 0., 0., 0., 0., 0., 0., 0., 1., 0., 0., 0., 0., 0.,\n",
       "        0., 0., 0., 0., 0., 0., 0., 0., 0., 1., 0., 0., 0., 0., 0., 0., 0., 0.,\n",
       "        0., 0., 1., 0., 0., 0., 1., 0., 0., 0., 0., 0., 0., 0., 0., 0., 0., 0.,\n",
       "        0., 0., 0., 1., 0., 0., 0., 0., 0., 0., 0., 0., 0., 0., 0., 0., 0., 0.,\n",
       "        1., 0., 0., 0., 0., 0., 0., 0., 0., 0., 0., 0., 0., 0., 0., 1., 0., 0.,\n",
       "        0., 0., 0., 1., 0., 0., 0., 0., 0., 0., 0., 0., 1., 0., 0., 0., 0., 0.,\n",
       "        0., 0., 0., 0., 0., 0., 0., 0., 0., 1., 0., 0., 0., 0., 0., 0., 0., 0.,\n",
       "        0., 0., 0., 0., 0., 0., 1., 0., 0., 0., 0., 0., 0., 0., 0., 0., 0., 0.,\n",
       "        0., 0., 0., 1., 0., 0., 0., 1., 0., 0., 0., 0., 0., 0., 0., 0., 0., 0.,\n",
       "        1., 0., 0., 0., 0., 0., 0., 0., 0., 0., 0., 0., 0., 0., 0., 1., 0., 0.,\n",
       "        0., 0., 0., 0., 0., 0., 0., 0., 0., 0., 0., 0., 1., 0., 0., 0., 0., 0.,\n",
       "        0., 0., 0., 1., 0., 0., 0., 0., 0., 1., 0., 0., 0., 0., 0., 0., 0., 0.,\n",
       "        0., 0., 0., 0., 0., 0., 1., 0., 0., 0., 0., 0., 0., 0., 0., 0., 0., 0.,\n",
       "        0., 0., 0., 1., 0., 0., 0., 0., 0., 0., 0., 0., 0., 0., 0., 0., 0., 0.,\n",
       "        1., 0., 0., 0., 0., 0., 1., 0., 0., 0., 0., 0., 0., 0., 0., 1., 0., 0.,\n",
       "        0., 0., 0., 0., 0., 0., 0., 0., 0., 0., 0., 0., 1., 0., 0., 0., 0., 0.,\n",
       "        0., 0., 0., 0., 0., 0., 0., 0., 0., 1., 0., 0., 0., 0., 0., 0., 0., 0.,\n",
       "        0., 0., 0., 0., 0., 0., 1., 0., 0., 0., 0., 1., 0., 0., 0., 0., 0., 0.,\n",
       "        0., 0., 0., 1., 0., 0., 0., 0., 0., 0., 0., 0., 0., 0., 0., 0., 0., 0.,\n",
       "        1., 0., 0., 0., 0., 0., 0., 0., 0., 0., 0., 0., 0., 0., 0., 1., 0., 0.,\n",
       "        0., 0., 0., 0., 0., 0., 0., 0., 0., 0., 0., 0., 1., 0., 0., 0., 0., 1.,\n",
       "        0., 0., 0., 0., 0., 0., 0., 0., 0., 1., 0., 0., 0., 0., 0., 0., 0., 0.,\n",
       "        0., 0., 0., 0., 0., 0., 1., 0., 0., 0., 0., 0., 0., 0., 0., 0., 0., 0.,\n",
       "        0., 0., 0., 1., 0., 0., 0., 0., 0., 0., 0., 0., 0., 0., 0., 0., 0., 0.,\n",
       "        1., 0., 0., 0., 0., 0., 1., 0., 0., 0., 0., 0., 0., 0., 0., 1., 0., 0.,\n",
       "        0., 0., 0., 0., 0., 0., 0., 0., 0., 0., 0., 0., 1., 0., 0., 0., 0., 0.,\n",
       "        0., 0., 0., 0., 0., 0., 0., 0., 0., 1., 0., 0., 0., 0., 0., 0., 0., 0.,\n",
       "        0., 0., 0., 0., 0., 0., 1., 0., 0., 0., 0., 0., 0., 1., 0., 0., 0., 0.,\n",
       "        0., 0., 0., 1., 0., 0., 0., 0., 0., 0., 0., 0., 0., 0., 0., 0., 0., 0.,\n",
       "        1., 0., 0., 0., 0., 0., 0., 0., 0., 0., 0., 0., 0., 0., 0., 1., 0., 0.,\n",
       "        0., 0., 0., 0., 0., 0., 0., 0., 0., 0., 0., 0., 1., 0., 0., 0., 0., 0.,\n",
       "        0., 0., 0., 1., 0., 0., 0., 0., 0., 1., 0., 0., 0., 0., 0., 0., 0., 0.,\n",
       "        0., 0., 0., 0., 0., 0., 1., 0., 0., 0., 0., 0., 0., 0., 0., 0., 0., 0.,\n",
       "        0., 0., 0., 1., 0., 0., 0., 0., 0., 0., 0., 0., 0., 0., 0., 0., 0., 0.,\n",
       "        1., 0., 0., 0., 0., 0., 0., 0., 0., 0., 0., 0., 0., 0., 0., 1., 0., 0.,\n",
       "        0., 0., 1., 0., 0., 0., 0., 0., 0., 0., 0., 0., 1., 0., 0., 0., 0., 0.,\n",
       "        0., 0., 0., 0., 0., 0., 0., 0., 0., 1., 0., 0., 0., 0., 0., 0., 0., 0.,\n",
       "        0., 0., 0., 0., 0., 0., 1., 0., 0., 0., 0., 0., 0., 0., 0., 0., 0., 0.,\n",
       "        0., 0., 0., 1., 0., 0., 0., 0., 0., 0., 0., 0., 0., 1., 0., 0., 0., 0.,\n",
       "        1., 0., 0., 0., 0., 0., 0., 0., 0., 0., 0., 0., 0., 0., 0., 1., 0., 0.,\n",
       "        0., 0., 0., 0., 0., 0., 0., 0., 0., 0., 0., 0., 1., 0., 0., 0., 0., 0.,\n",
       "        0., 0., 0., 0., 0., 0., 0., 0., 0., 1., 0., 0., 0., 0., 0., 0., 0., 0.,\n",
       "        0., 0., 0., 0., 0., 0., 1., 0., 0., 0., 0., 0., 0., 0., 1., 0., 0., 0.,\n",
       "        0., 0., 0., 1., 0., 0., 0., 0., 0., 0., 0., 0., 0., 0., 0., 0., 0., 0.,\n",
       "        1., 0., 0., 0., 0., 0., 0., 0., 0., 0.])"
      ]
     },
     "execution_count": 19,
     "metadata": {},
     "output_type": "execute_result"
    }
   ],
   "source": [
    "new_network.spike_time_matrix[1, 0, :]"
   ]
  },
  {
   "cell_type": "markdown",
   "metadata": {
    "id": "349e052e-c87d-4742-833a-a93422a5e50b"
   },
   "source": [
    "<h2> Setting up liquid state machine connections </h2>"
   ]
  },
  {
   "cell_type": "code",
   "execution_count": 20,
   "metadata": {
    "id": "7bf73660-a101-487a-8b2e-13526906d8b8",
    "tags": []
   },
   "outputs": [],
   "source": [
    "fan_in = 4\n",
    "Wine = 8\n",
    "Wini = -8\n",
    "n_input_channels = 77\n",
    "\n",
    "f_excitatory = 0.85\n",
    "K_values = {\"ee\": 0.45, \"ei\" : 0.3, \"ie\" : 0.6, \"ii\" :0.15} \n",
    "W_values ={\"ee\": 3, \"ei\": 6, \"ie\" : -2, \"ii\" : -2}\n",
    "lambda_value =  2\n",
    "\n",
    "alpha_res = 0.2"
   ]
  },
  {
   "cell_type": "code",
   "execution_count": 21,
   "metadata": {
    "colab": {
     "base_uri": "https://localhost:8080/"
    },
    "id": "aedb56d2-8e64-4b22-a9f9-aa274ba45577",
    "outputId": "0a16e478-72c2-4091-b2af-3687ef5ed425",
    "tags": []
   },
   "outputs": [
    {
     "name": "stderr",
     "output_type": "stream",
     "text": [
      "100%|███████████████████████████████████████████████████████████████████████████████| 125/125 [00:00<00:00, 533.50it/s]\n"
     ]
    }
   ],
   "source": [
    "n_neurons = [5, 5, 5]\n",
    "# Define a neuron coordinate grid, Map each neuron to either being e or i\n",
    "number_of_neurons = 1\n",
    "for neuron_number in n_neurons: number_of_neurons = number_of_neurons*neuron_number\n",
    "\n",
    "type_of_neuron = ['i' for i in range(number_of_neurons)]\n",
    "\n",
    "\n",
    "excitatory_list = list(random.sample(range(number_of_neurons), int(f_excitatory*number_of_neurons)))\n",
    "\n",
    "\n",
    "for excitatory_indice in excitatory_list: type_of_neuron[excitatory_indice] = 'e'\n",
    "\n",
    "\n",
    "\n",
    "neuron_coordinate_list = []\n",
    "count = 0 \n",
    "for z in range(n_neurons[2]): \n",
    "    for y in range(n_neurons[1]):\n",
    "        for x in range(n_neurons[0]): \n",
    "            neuron_coordinate_list = neuron_coordinate_list + [[x,y,z]]\n",
    "            pass\n",
    "        pass\n",
    "    pass\n",
    "\n",
    "# Create an reservoir connection matrix factoring in k_list, weights and lambda - probability of connections\n",
    "weight_matrix_res = torch.zeros(number_of_neurons, number_of_neurons)\n",
    "number_of_connections = 0\n",
    "for i in tqdm.tqdm(range(number_of_neurons)): \n",
    "    for j in range(number_of_neurons): \n",
    "        if i == j:continue\n",
    "        n1_coordinate = neuron_coordinate_list[i]\n",
    "        n2_coordinate = neuron_coordinate_list[j]\n",
    "        connection_type = type_of_neuron[i] + type_of_neuron[j]\n",
    "        k_value = K_values[connection_type]\n",
    "        d_squared = float(np.sum(np.power((np.array(n1_coordinate) - np.array(n2_coordinate)), 2)))\n",
    "        prob_of_connection =k_value*np.exp(-1*d_squared/(lambda_value**2))\n",
    "        if prob_of_connection > random.uniform(0,1): \n",
    "            weight_matrix_res[i, j] = W_values[connection_type]\n",
    "            number_of_connections += 1\n",
    "            pass\n",
    "        pass\n",
    "    pass\n",
    "\n",
    "weight_matrix_res = alpha_res*weight_matrix_res\n",
    "# Create the input to reservoir connections using fan_in and Wine and Wini\n",
    "total_neurons_to_simulate = number_of_neurons + n_input_channels\n",
    "weight_matrix = torch.zeros(total_neurons_to_simulate, total_neurons_to_simulate)\n",
    "weight_matrix[n_input_channels:, n_input_channels:] = weight_matrix_res\n",
    "\n",
    "for i in range(n_input_channels):\n",
    "    connection_list = np.array(list(random.sample(range(number_of_neurons), fan_in))) + n_input_channels\n",
    "\n",
    "    for connection in connection_list: \n",
    "        if connection < n_input_channels: print(\"This connection is going back into the input channel!!!\") \n",
    "        if random.uniform(0,1) > 0.5:\n",
    "            weight_matrix[i, connection] = Wine\n",
    "        else: \n",
    "            weight_matrix[i, connection] = Wini\n",
    "        pass\n",
    "    pass\n",
    "\n",
    "# The first n_input_channel neurons are input neurons and the rest are reservoir neurons"
   ]
  },
  {
   "cell_type": "code",
   "execution_count": 22,
   "metadata": {},
   "outputs": [
    {
     "data": {
      "text/plain": [
       "(array([ 0,  1,  1,  1,  2,  3,  5,  5,  5,  6,  7,  7,  8,  9,  9,  9,  9,\n",
       "        10, 10, 11, 11, 11, 12, 12, 13, 13, 13, 14, 15, 15, 15, 16, 16, 17,\n",
       "        17, 18, 18, 19, 19, 20, 20, 21, 21, 21, 23, 23, 23, 24, 24, 25, 25,\n",
       "        26, 26, 26, 27, 28, 28, 29, 29, 30, 32, 32, 33, 33, 33, 34, 34, 34,\n",
       "        35, 35, 36, 37, 37, 37, 38, 38, 38, 40, 40, 41, 41, 41, 42, 42, 42,\n",
       "        44, 44, 45, 45, 45, 45, 46, 46, 47, 48, 49, 49, 49, 50, 51, 51, 52,\n",
       "        53, 54, 54, 54, 55, 56, 56, 57, 57, 57, 57, 58, 58, 58, 59, 60, 60,\n",
       "        61, 62, 62, 63, 63, 63, 64, 64, 65, 65, 66, 66, 66, 66, 67, 67, 67,\n",
       "        68, 68, 68, 68, 69, 69, 70, 70, 70, 71, 73, 73, 73, 74, 75, 75, 76],\n",
       "       dtype=int64),\n",
       " array([100, 156, 157, 182, 118, 194, 146, 187, 189, 138,  94, 158, 148,\n",
       "         79, 108, 151, 197,  77, 145,  83, 186, 192, 171, 184, 118, 187,\n",
       "        196, 179,  88, 101, 124, 104, 178, 107, 176, 138, 198, 169, 171,\n",
       "        128, 133,  93, 129, 156,  91, 101, 158, 159, 179,  89, 166, 153,\n",
       "        174, 184, 137, 139, 143, 121, 171,  83,  81, 128,  89, 132, 193,\n",
       "         78, 101, 170, 123, 164, 142, 129, 155, 194,  91,  95, 193, 111,\n",
       "        124,  90, 132, 199, 132, 153, 174, 115, 146,  86, 105, 122, 166,\n",
       "        147, 188, 155, 159, 136, 146, 177,  97, 156, 173, 187, 170,  77,\n",
       "        137, 159, 132, 119, 129,  77, 123, 129, 153,  93, 131, 151, 123,\n",
       "        119, 162,  89, 103, 148,  80,  93, 175,  81, 121, 102, 201,  96,\n",
       "        112, 180, 195,  90, 160, 164,  97, 116, 156, 181,  91, 152, 112,\n",
       "        163, 197,  87, 104, 135, 185, 179, 168, 190, 169], dtype=int64))"
      ]
     },
     "execution_count": 22,
     "metadata": {},
     "output_type": "execute_result"
    }
   ],
   "source": [
    "np.where(weight_matrix > 7)"
   ]
  },
  {
   "cell_type": "markdown",
   "metadata": {
    "id": "997c9c9f-ee8a-4089-bc52-018dc8384e43",
    "tags": []
   },
   "source": [
    "<h2> Setting up the input signal </h2>"
   ]
  },
  {
   "cell_type": "code",
   "execution_count": 23,
   "metadata": {
    "id": "fdc67915-1c44-48d2-9994-9d3dc36ce398",
    "scrolled": true,
    "tags": []
   },
   "outputs": [
    {
     "name": "stdout",
     "output_type": "stream",
     "text": [
      "[0 0 0 0 0 0 0 0 0 0 0 0 0 0 0 0 0 0 0 0 0 0 0 0 0 0 0 0 0 0 0 0 0 0 0 0 0\n",
      " 0 0 0 0 0 0 0 0 0 0 0 0 0 0 0 0 0 0 0 0 0 0 0 0 0 0 0 0 0 0 0 0 0 0 0 0 0\n",
      " 0 0 0 0 0 0 0 0 0 0 0 0 0 0 0 0 0 0 0 0 0 0 0 0 0 0 0 0 0 0 0 0 0 0 0 0 0\n",
      " 0 0 0 0 0 0 0 0 0 0 0 0 0 0 0 0 0 0 0 0 0 0 0 0 0 0 0 0 0 0 0 0 0 0 0 0 0\n",
      " 0 0 0 0 0 0 0 0 0 0 0 0 0 0 0 0 0 0 0 0 0 0 0 0 0 0 0 0 0 0 0 0 0 0 0 0 0\n",
      " 0 0 0 0 0 0 0 0 0 0 0 0 0 0 0 0 0 0 0 0 0 0 0 0 0 0 0 0 0 0 0 0 0 0 0 0 0\n",
      " 0 0 0 0 0 0 0 0 0 0 0 0 0 0 0 0 0 0 0 0 0 0 0 0 0 0 0 0 0 0 0 0 0 0 0 0 0\n",
      " 0 0 0 0 0 0 0 0 0 0 0 0 0 0 0 0 0 0 0 0 0 0 0 0 0 0 0 0 0 0 0 0 0 0 0 0 0\n",
      " 0 0 0 0 0 0 0 0 0 0 0 0 0 0 0 1 0 0 0 0 0 0 0 0 0 1 0 0 0 0 0 0 1 0 0 0 0\n",
      " 0 1 0 0 0 0 0 1 0 0 0 0 1 0 0 0 0 1 0 0 0 1 0 0 0 0 1 0 0 0 1 0 0 0 0 1 0\n",
      " 0 0 0 1 0 0 0 0 1 0 0 0 0 0 1 0 0 0 0 0 1 0 0 0 0 0 0 1 0 0 0 0 0 0 0 1 0\n",
      " 0 0 0 0 0 0 0 0 1 0 0 0 0 0 0 0 0 0 0 0 0 0 0 0 0 0 0 0 0 0 0 0 0 0 0 0 0\n",
      " 0 0 0 0 0 0 0 0 0 0 0 0 0 0 0 0 0 0 0 0 0 0 0 0 0 0 0 0 0 0 0 0 0 0 0 0 0\n",
      " 0 0 0 0 0 0 0 0 0 0 0 0 0 0 0 0 0 0 0 0 0 0 0 0 0 0 0 0 0 0 0 0 0 0 0 0 0\n",
      " 0 0 0 0 0 0 0 0 0 0 0 0 0 0 0 0 0 0 0 0 0 0 0 0 0 0 0 0 0 0 0 0 0 0 0 0 0\n",
      " 0 0 0 0 0 0 0 0 0 0 0 0 0 0 0 0 0 0 0 0 0 0 0 0 0 0 0 0 0 0 0 0 0 0 0 0 0\n",
      " 0 0 0 0 0 0 0 0 0 0 0 0 0 0 0 0 0 0 0 0 0 0 0 0 0 0 0 0 0 0 0 0 0 0 0 0 0\n",
      " 0 0 0 0 0 0 0 0 0 0 0 0 0 0 0 0 0 0 0 0 0 0 0 0 0 0 0 0 0 0 0 0 0 0 0 0 0\n",
      " 0 0 0 0 0 0 0 0 0 0 0 0 0 0 0 0 0 0 0 0 0 0 0 0 0 0 0 0 0 0 0 0 0 0 0 0 0\n",
      " 0 0 0 0 0 0 0 0 0 0 0 0 0 0 0 0 0 0 0 0 0 0 0 0 0 0 0 0 0 0 0 0 0 0 0 0 0\n",
      " 0 0 0 0 0 0 0 0 0 0 0 0 0 0 0 0 0 0 0 0 0 0 0 0 0 0 0 0 0 0 0 0 0 0 0 0 0\n",
      " 0 0 0 0 0 0 0 0 0 0 0 0 0 0 0 0 0 0 0 0 0 0 0 0 0 0 0 0 0 0 0 0 0 0 0 0 0\n",
      " 0 0 0 0 0 0 0 0 0 0 0 0 0 0 0 0 0 0 0 0 0 0 0 0 0 0 0 0 0 0 0 0 0 0 0 0 0\n",
      " 0 0 0 0 0 0 0 0 0 0 0 0 0 0 0 0 0 0 0 0 0 0 0 0 0 0 0 0 0 0 0 0 0 0 0 0 0\n",
      " 0 0 0 0 0 0 0 0 0 0 0 0 0 0 0 0 0 0 0 0 0 0 0 0 0 0 0 0 0 0 0 0 0 0 0 0 0\n",
      " 0 0 0 0 0 0 0 0 0 0 0 0 0 0 0 0 0 0 0 0 0 0 0 0 0 0 0 0 0 0 0 0 0 0 0 0 0\n",
      " 0 0 0 0 0 0 0 0 0 0 0 0 0 0 0 0 0 0 0 0 0 0 0 0 0 0 0 0 0 0 0 0 0 0 0 0 0\n",
      " 0 0 0 0 0 0 0 0 0 0 0 0 0 0 0 0 0 0 0 0 0 0 0 0 0 0 0 0 0 0 0 0 0 0 0 0 0\n",
      " 0 0 0 0 0 0 0 0 0]\n"
     ]
    }
   ],
   "source": [
    "mat = scipy.io.loadmat('data_to_export.mat')\n",
    "df_data = pd.DataFrame(columns = [\"Spike Data\", \"Speaker\", \"Type\"])\n",
    "df_data[\"Spike Data\"] = mat[\"x\"][\"S\"][0]\n",
    "df_data[\"Speaker\"] = [np.squeeze(element) for element in list(mat[\"x\"][\"spk\"][0])]\n",
    "df_data[\"Type\"] = [np.squeeze(element) for element in list(mat[\"x\"][\"type\"][0])]\n",
    "max_time_step_length = 0 \n",
    "\n",
    "\n",
    "for i in range(len(df_data)):\n",
    "    max_time_step_length  = max(max_time_step_length, df_data[\"Spike Data\"][i].shape[1])\n",
    "print(np.squeeze([df_data[\"Spike Data\"][1].todense()[1]]))"
   ]
  },
  {
   "cell_type": "markdown",
   "metadata": {
    "id": "dc18b6db-658c-4bde-83d7-29be699e6c7b"
   },
   "source": [
    "<h2> Generating the liquid response </h2>"
   ]
  },
  {
   "cell_type": "code",
   "execution_count": 24,
   "metadata": {
    "id": "cae82364-b760-4268-8978-b211344118a9",
    "tags": []
   },
   "outputs": [],
   "source": [
    "dt = pow(10, -3) \n",
    "n_time_steps = max_time_step_length"
   ]
  },
  {
   "cell_type": "code",
   "execution_count": 25,
   "metadata": {
    "id": "db0afeff-65fb-4e56-aaa9-5d079a0c4547",
    "tags": []
   },
   "outputs": [
    {
     "name": "stdout",
     "output_type": "stream",
     "text": [
      "tensor([[ 0.0000,  0.0000,  0.0000,  ...,  0.0000,  0.0000,  0.0000],\n",
      "        [25.9240,  0.0000,  0.0000,  ...,  0.0000,  0.0000,  0.0000],\n",
      "        [43.0675, 25.9240,  0.0000,  ...,  0.0000,  0.0000,  0.0000],\n",
      "        ...,\n",
      "        [ 0.0000,  0.0000,  0.0000,  ...,  0.0000,  0.0000,  0.0000],\n",
      "        [ 0.0000,  0.0000,  0.0000,  ..., 25.9240,  0.0000,  0.0000],\n",
      "        [ 0.0000,  0.0000,  0.0000,  ..., 43.0675, 25.9240,  0.0000]])\n"
     ]
    }
   ],
   "source": [
    "batch_size = 100\n",
    "new_network = NeuralNetworkSimulator(weight_matrix, batch_size)\n",
    "new_network.setup_neuron_and_synapse_parameters(tau = 64*pow(10, -3), Vth = 20, Vrst = 0, tau1 = 8*pow(10, -3), tau2 = 4*pow(10,-3), I0 = 250)\n",
    "new_network.setup_simulation(dt = dt, n_time_steps = n_time_steps)\n",
    "print(new_network.Ipc)\n",
    "new_network.setup_storage_matrices(dt = dt, n_time_steps = n_time_steps)"
   ]
  },
  {
   "cell_type": "code",
   "execution_count": null,
   "metadata": {
    "colab": {
     "base_uri": "https://localhost:8080/"
    },
    "id": "df48230e-d06e-4572-9e37-e6a9841a7056",
    "outputId": "5443fb1b-3b38-4c28-ed07-a2c8a4d5ca0f",
    "tags": []
   },
   "outputs": [
    {
     "name": "stdout",
     "output_type": "stream",
     "text": [
      "Percentage Completed: 0.0\n"
     ]
    },
    {
     "name": "stderr",
     "output_type": "stream",
     "text": [
      "100%|██████████████████████████████████████████████████████████████████████████████| 2510/2510 [05:00<00:00,  8.37it/s]\n",
      "100%|██████████████████████████████████████████████████████████████████████████████| 2510/2510 [04:25<00:00,  9.46it/s]\n",
      "100%|██████████████████████████████████████████████████████████████████████████████| 2510/2510 [04:28<00:00,  9.35it/s]\n",
      "100%|██████████████████████████████████████████████████████████████████████████████| 2510/2510 [04:25<00:00,  9.46it/s]\n",
      "100%|██████████████████████████████████████████████████████████████████████████████| 2510/2510 [04:38<00:00,  9.02it/s]\n"
     ]
    },
    {
     "name": "stdout",
     "output_type": "stream",
     "text": [
      "Percentage Completed: 2.6263262947788633\n"
     ]
    },
    {
     "name": "stderr",
     "output_type": "stream",
     "text": [
      " 13%|█████████▉                                                                     | 315/2510 [00:36<05:15,  6.95it/s]"
     ]
    }
   ],
   "source": [
    "n_data_samples = len(df_data)\n",
    "liquid_response_matrix = torch.zeros(n_data_samples, number_of_neurons + n_input_channels)\n",
    "start = 0 \n",
    "end = 0 \n",
    "input_matrix = torch.zeros(batch_size, number_of_neurons  + n_input_channels, n_time_steps)\n",
    "while end < n_data_samples:\n",
    "    if end%500 == 0: \n",
    "        print(\"Percentage Completed: \" + str(end*100/n_data_samples))\n",
    "    end = start + batch_size\n",
    "    end = min(end, n_data_samples)\n",
    "    for i in range(batch_size):\n",
    "        index = start + i\n",
    "        if index == n_data_samples: \n",
    "            break\n",
    "        input_spike_data = df_data[\"Spike Data\"][index]\n",
    "        input_matrix[i, :n_input_channels, : (input_spike_data).shape[1]] = torch.Tensor(input_spike_data.todense())\n",
    "    new_network.reset_simulation()\n",
    "    new_network.give_input_spike(input_matrix)\n",
    "    new_network.run_simulation()\n",
    "    liquid_response = new_network.spike_time_matrix.sum(2)\n",
    "    liquid_response_matrix[start:start + batch_size, :] = liquid_response[:end-start, : ]\n",
    "    input_matrix[:] = 0 \n",
    "    start = end"
   ]
  },
  {
   "cell_type": "markdown",
   "metadata": {
    "id": "uIJ9-GSt8NZI"
   },
   "source": [
    "<h2> Creating the readout layer </h2>"
   ]
  },
  {
   "cell_type": "code",
   "execution_count": null,
   "metadata": {
    "id": "sDLqUoir8TNX"
   },
   "outputs": [],
   "source": [
    "output_liquid_matrix = np.array(liquid_response_matrix)\n",
    "target_matrix = np.array([spoken_word for spoken_word in list(df_data[\"Type\"])])"
   ]
  },
  {
   "cell_type": "code",
   "execution_count": null,
   "metadata": {},
   "outputs": [],
   "source": [
    "(output_liquid_matrix[:, :77].sum()/77)/(output_liquid_matrix[:, 77:].sum()/225)"
   ]
  },
  {
   "cell_type": "code",
   "execution_count": null,
   "metadata": {
    "colab": {
     "base_uri": "https://localhost:8080/"
    },
    "id": "naHqVjYM_KXJ",
    "outputId": "4f62a53b-2322-45ca-da2d-d3a0d8167de9"
   },
   "outputs": [],
   "source": [
    "dict_of_accuracies = {}\n",
    "n_tests = 5\n",
    "train_accuracy = 0 \n",
    "test_accuracy = 0 \n",
    "for i in range(n_tests): \n",
    "  X_train, X_test, y_train, y_test = train_test_split(output_liquid_matrix[:, :77], target_matrix, test_size=0.2, random_state = 42 + random.randint(0, 30))\n",
    "  clf = make_pipeline(LogisticRegression())\n",
    "  clf.fit(X_train, y_train)\n",
    "  train_accuracy += clf.score(X_train, y_train)\n",
    "  test_accuracy += clf.score(X_test, y_test)\n",
    "\n",
    "dict_of_accuracies['only input'] = {'train': train_accuracy*100/n_tests, 'test': test_accuracy*100/n_tests}\n",
    "\n",
    "n_tests = 5\n",
    "train_accuracy = 0 \n",
    "test_accuracy = 0 \n",
    "for i in range(n_tests): \n",
    "  X_train, X_test, y_train, y_test = train_test_split(output_liquid_matrix[:, 77:], target_matrix, test_size=0.2, random_state = 42 + random.randint(0, 30))\n",
    "  clf = make_pipeline(LogisticRegression())\n",
    "  clf.fit(X_train, y_train)\n",
    "  train_accuracy += clf.score(X_train, y_train)\n",
    "  test_accuracy += clf.score(X_test, y_test)\n",
    "\n",
    "dict_of_accuracies['only liquid'] = {'train': train_accuracy*100/n_tests, 'test': test_accuracy*100/n_tests}\n",
    "\n",
    "\n",
    "n_tests = 5\n",
    "train_accuracy = 0 \n",
    "test_accuracy = 0 \n",
    "for i in range(n_tests): \n",
    "  X_train, X_test, y_train, y_test = train_test_split(output_liquid_matrix[:, :], target_matrix, test_size=0.2, random_state = 42 + random.randint(0, 30))\n",
    "  clf = make_pipeline(LogisticRegression())\n",
    "  clf.fit(X_train, y_train)\n",
    "  train_accuracy += clf.score(X_train, y_train)\n",
    "  test_accuracy += clf.score(X_test, y_test)\n",
    "\n",
    "dict_of_accuracies['input and liquid'] = {'train': train_accuracy*100/n_tests, 'test': test_accuracy*100/n_tests}\n",
    "\n"
   ]
  },
  {
   "cell_type": "code",
   "execution_count": null,
   "metadata": {},
   "outputs": [],
   "source": [
    "print(\"***********************************Only Input used for Training*****************************\")\n",
    "print(\"train score = \" + str(dict_of_accuracies['only input']['train']))\n",
    "print(\"test score = \" + str(dict_of_accuracies['only input']['test']))\n",
    "print(\"********************************************************************************************\")\n",
    "\n",
    "print(\"***********************************Only Liquid used for Training*****************************\")\n",
    "print(\"train score = \" + str(dict_of_accuracies['only liquid']['train']))\n",
    "print(\"test score = \" + str(dict_of_accuracies['only liquid']['test']))\n",
    "print(\"********************************************************************************************\")\n",
    "\n",
    "print(\"***********************************Input and Liquid used for Training*****************************\")\n",
    "print(\"train score = \" + str(dict_of_accuracies['input and liquid']['train']))\n",
    "print(\"test score = \" + str(dict_of_accuracies['input and liquid']['test']))\n",
    "print(\"********************************************************************************************\")"
   ]
  },
  {
   "cell_type": "code",
   "execution_count": null,
   "metadata": {},
   "outputs": [],
   "source": []
  },
  {
   "cell_type": "code",
   "execution_count": null,
   "metadata": {},
   "outputs": [],
   "source": []
  },
  {
   "cell_type": "code",
   "execution_count": null,
   "metadata": {},
   "outputs": [],
   "source": []
  },
  {
   "cell_type": "code",
   "execution_count": null,
   "metadata": {},
   "outputs": [],
   "source": []
  },
  {
   "cell_type": "code",
   "execution_count": null,
   "metadata": {},
   "outputs": [],
   "source": []
  }
 ],
 "metadata": {
  "accelerator": "GPU",
  "colab": {
   "collapsed_sections": [],
   "provenance": []
  },
  "kernelspec": {
   "display_name": "Python 3",
   "language": "python",
   "name": "python3"
  },
  "language_info": {
   "codemirror_mode": {
    "name": "ipython",
    "version": 3
   },
   "file_extension": ".py",
   "mimetype": "text/x-python",
   "name": "python",
   "nbconvert_exporter": "python",
   "pygments_lexer": "ipython3",
   "version": "3.8.3"
  }
 },
 "nbformat": 4,
 "nbformat_minor": 5
}
